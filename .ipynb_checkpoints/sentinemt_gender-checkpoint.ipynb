{
 "cells": [
  {
   "cell_type": "code",
   "execution_count": 1,
   "id": "19dce3ff-65e1-4951-873c-98ed1aca9466",
   "metadata": {},
   "outputs": [
    {
     "name": "stderr",
     "output_type": "stream",
     "text": [
      "[nltk_data] Downloading package stopwords to\n",
      "[nltk_data]     /Users/reppmazc/nltk_data...\n",
      "[nltk_data]   Package stopwords is already up-to-date!\n",
      "/var/folders/4j/klr6l0gn60b9blsxb73r3jq40000gn/T/ipykernel_2521/962071525.py:39: SettingWithCopyWarning: \n",
      "A value is trying to be set on a copy of a slice from a DataFrame.\n",
      "Try using .loc[row_indexer,col_indexer] = value instead\n",
      "\n",
      "See the caveats in the documentation: https://pandas.pydata.org/pandas-docs/stable/user_guide/indexing.html#returning-a-view-versus-a-copy\n",
      "  filtered_df['processed_content'] = filtered_df['content'].apply(preprocess_text)\n",
      "/var/folders/4j/klr6l0gn60b9blsxb73r3jq40000gn/T/ipykernel_2521/962071525.py:51: SettingWithCopyWarning: \n",
      "A value is trying to be set on a copy of a slice from a DataFrame.\n",
      "Try using .loc[row_indexer,col_indexer] = value instead\n",
      "\n",
      "See the caveats in the documentation: https://pandas.pydata.org/pandas-docs/stable/user_guide/indexing.html#returning-a-view-versus-a-copy\n",
      "  filtered_df['processed_content'] = filtered_df['processed_content'].apply(lambda x: truncate_text(x, tokenizer))\n",
      "Hardware accelerator e.g. GPU is available in the environment, but no `device` argument is passed to the `Pipeline` object. Model will be on CPU.\n"
     ]
    },
    {
     "name": "stdout",
     "output_type": "stream",
     "text": [
      "Sentiment analysis completed for topic 174. Results saved to 'filtered_topic_sentiment_test_ssary.csv'\n",
      "Sentiment distribution by source for topic 174:\n",
      "sentiment     negative   neutral\n",
      "source                          \n",
      "bild          0.333333  0.666667\n",
      "faz           0.250000  0.750000\n",
      "focus         0.000000  1.000000\n",
      "sueddeutsche  0.250000  0.750000\n",
      "tagesschau    0.000000  1.000000\n",
      "tagesspiegel  0.333333  0.666667\n",
      "welt          0.000000  1.000000\n",
      "zeit          0.000000  1.000000\n"
     ]
    },
    {
     "name": "stderr",
     "output_type": "stream",
     "text": [
      "/var/folders/4j/klr6l0gn60b9blsxb73r3jq40000gn/T/ipykernel_2521/962071525.py:57: SettingWithCopyWarning: \n",
      "A value is trying to be set on a copy of a slice from a DataFrame.\n",
      "Try using .loc[row_indexer,col_indexer] = value instead\n",
      "\n",
      "See the caveats in the documentation: https://pandas.pydata.org/pandas-docs/stable/user_guide/indexing.html#returning-a-view-versus-a-copy\n",
      "  filtered_df['sentiment'] = filtered_df['processed_content'].apply(lambda x: sentiment_pipeline(x)[0]['label'])\n",
      "/var/folders/4j/klr6l0gn60b9blsxb73r3jq40000gn/T/ipykernel_2521/962071525.py:60: SettingWithCopyWarning: \n",
      "A value is trying to be set on a copy of a slice from a DataFrame.\n",
      "Try using .loc[row_indexer,col_indexer] = value instead\n",
      "\n",
      "See the caveats in the documentation: https://pandas.pydata.org/pandas-docs/stable/user_guide/indexing.html#returning-a-view-versus-a-copy\n",
      "  filtered_df['topic'] = '174_gendern_gender_sprache_rechtschreibung'  # Manually setting the topic name for this specific analysis\n"
     ]
    }
   ],
   "source": [
    "import pandas as pd\n",
    "import re\n",
    "import nltk\n",
    "from nltk.corpus import stopwords\n",
    "from gensim.utils import simple_preprocess\n",
    "from transformers import AutoTokenizer, pipeline\n",
    "\n",
    "# Load the datasets\n",
    "articles_df = pd.read_csv('/Users/reppmazc/Documents/IRONHACK/quests/final_project/df_toKenized_topic.csv')\n",
    "topics_df = pd.read_csv('/Users/reppmazc/Documents/IRONHACK/quests/final_project/df_topics.csv')\n",
    "\n",
    "# Convert column names to lowercase for consistency\n",
    "topics_df.columns = map(str.lower, topics_df.columns)\n",
    "articles_df.columns = map(str.lower, articles_df.columns)\n",
    "\n",
    "# Merge the dataframes on the 'topic' column using a left join\n",
    "merged_df = articles_df.merge(topics_df, on='topic', how='left')\n",
    "\n",
    "# Save the merged file (optional)\n",
    "merged_df.to_csv('/Users/reppmazc/Documents/IRONHACK/quests/final_project/topics.csv')\n",
    "\n",
    "# Ensure stopwords are downloaded\n",
    "nltk.download('stopwords')\n",
    "stop_words = set(stopwords.words('german'))\n",
    "\n",
    "# Filter for the specific topic (174)\n",
    "filtered_df = merged_df[merged_df['topic'] == 174]\n",
    "\n",
    "# Define text preprocessing function\n",
    "def preprocess_text(text):\n",
    "    text = re.sub(r'\\d+', '', text)  # Remove numbers\n",
    "    text = re.sub(r'\\W', ' ', text)  # Remove punctuation\n",
    "    text = text.lower()  # Convert to lowercase\n",
    "    tokens = simple_preprocess(text)  # Tokenize\n",
    "    tokens = [word for word in tokens if word not in stop_words]  # Remove stopwords\n",
    "    return ' '.join(tokens)\n",
    "\n",
    "# Apply preprocessing to the 'content' column\n",
    "filtered_df['processed_content'] = filtered_df['content'].apply(preprocess_text)\n",
    "\n",
    "# Load tokenizer and pipeline for sentiment analysis\n",
    "model_name = \"ssary/XLM-RoBERTa-German-sentiment\"  # Specify the model for German sentiment analysis\n",
    "max_token_length = 512\n",
    "tokenizer = AutoTokenizer.from_pretrained(model_name)\n",
    "\n",
    "# Truncate text for tokenization\n",
    "def truncate_text(text, tokenizer):\n",
    "    tokens = tokenizer.encode(text, truncation=True, max_length=max_token_length)\n",
    "    return tokenizer.decode(tokens, skip_special_tokens=True)\n",
    "\n",
    "filtered_df['processed_content'] = filtered_df['processed_content'].apply(lambda x: truncate_text(x, tokenizer))\n",
    "\n",
    "# Load sentiment analysis pipeline\n",
    "sentiment_pipeline = pipeline(\"sentiment-analysis\", model=model_name, tokenizer=tokenizer, max_length=max_token_length, truncation=True)\n",
    "\n",
    "# Apply the model to get sentiment\n",
    "filtered_df['sentiment'] = filtered_df['processed_content'].apply(lambda x: sentiment_pipeline(x)[0]['label'])\n",
    "\n",
    "# Replace topic numbers with topic names in the final results\n",
    "filtered_df['topic'] = '174_gendern_gender_sprache_rechtschreibung'  # Manually setting the topic name for this specific analysis\n",
    "\n",
    "# Save filtered and processed results to CSV (optional)\n",
    "filtered_df.to_csv(f\"filtered_topic_sentiment_test_{model_name.split('/')[0]}.csv\", index=False)\n",
    "print(f\"Sentiment analysis completed for topic 174. Results saved to 'filtered_topic_sentiment_test_{model_name.split('/')[0]}.csv'\")\n",
    "\n",
    "# Analyze sentiment by source\n",
    "sentiment_by_source = filtered_df.groupby('source')['sentiment'].value_counts(normalize=True).unstack(fill_value=0)\n",
    "print(\"Sentiment distribution by source for topic 174:\")\n",
    "print(sentiment_by_source)\n",
    "\n",
    "# Optional: Save distribution table to CSV\n",
    "sentiment_by_source.to_csv(f\"sentiment_distribution_topic_174_by_source_{model_name.split('/')[0]}.csv\")\n"
   ]
  },
  {
   "cell_type": "markdown",
   "id": "2592e398-a5fa-49e6-87af-9bade77b5a29",
   "metadata": {},
   "source": [
    "# Sentiment model functionality test"
   ]
  },
  {
   "cell_type": "code",
   "execution_count": 10,
   "id": "fcd73c7d-2769-48d1-aa93-2b96f94d33ef",
   "metadata": {},
   "outputs": [
    {
     "name": "stderr",
     "output_type": "stream",
     "text": [
      "Hardware accelerator e.g. GPU is available in the environment, but no `device` argument is passed to the `Pipeline` object. Model will be on CPU.\n"
     ]
    },
    {
     "name": "stdout",
     "output_type": "stream",
     "text": [
      "Sentence: Die Debatte um das Gendern ist umstritten.\n",
      "Sentiment: neutral (Confidence: 1.00)\n",
      "\n",
      "Sentence: Das Gendersternchen ist eine Schande für die Gesellschaft\n",
      "Sentiment: negative (Confidence: 0.99)\n",
      "\n",
      "Sentence: Inklusive Sprache beinhaltet die Nutzung des Gendersternchens\n",
      "Sentiment: neutral (Confidence: 1.00)\n",
      "\n",
      "Sentence: Am Samstag wurden zwei Männer tot aufgefunden\n",
      "Sentiment: neutral (Confidence: 0.76)\n",
      "\n",
      "Sentence: Am Samstag wurden zwei Männer brutal abgeschlachtet\n",
      "Sentiment: negative (Confidence: 0.96)\n",
      "\n"
     ]
    }
   ],
   "source": [
    "from transformers import AutoTokenizer, pipeline\n",
    "\n",
    "# Load the sentiment analysis model\n",
    "model_name = \"ssary/XLM-RoBERTa-German-sentiment\"\n",
    "tokenizer = AutoTokenizer.from_pretrained(model_name)\n",
    "sentiment_pipeline = pipeline(\"sentiment-analysis\", model=model_name, tokenizer=tokenizer)\n",
    "\n",
    "# Function to analyze sentiment of individual sentences or phrases\n",
    "def analyze_sentence(sentence):\n",
    "    result = sentiment_pipeline(sentence)\n",
    "    sentiment = result[0]['label']\n",
    "    confidence = result[0]['score']\n",
    "    return sentiment, confidence\n",
    "\n",
    "# Examples of single sentences or word combinations\n",
    "test_sentences = [\n",
    "    \"Die Debatte um das Gendern ist umstritten.\",\n",
    "    \"Das Gendersternchen ist eine Schande für die Gesellschaft\",\n",
    "    \"Inklusive Sprache beinhaltet die Nutzung des Gendersternchens\",\n",
    "    \"Am Samstag wurden zwei Männer tot aufgefunden\",\n",
    "    \"Am Samstag wurden zwei Männer brutal abgeschlachtet\"]\n",
    "\n",
    "# Analyze each sentence\n",
    "for sentence in test_sentences:\n",
    "    sentiment, confidence = analyze_sentence(sentence) \n",
    "    print(f\"Sentence: {sentence}\\nSentiment: {sentiment} (Confidence: {confidence:.2f})\\n\")\n"
   ]
  }
 ],
 "metadata": {
  "kernelspec": {
   "display_name": "Transformers Test",
   "language": "python",
   "name": "transformers_test"
  },
  "language_info": {
   "codemirror_mode": {
    "name": "ipython",
    "version": 3
   },
   "file_extension": ".py",
   "mimetype": "text/x-python",
   "name": "python",
   "nbconvert_exporter": "python",
   "pygments_lexer": "ipython3",
   "version": "3.9.20"
  }
 },
 "nbformat": 4,
 "nbformat_minor": 5
}
