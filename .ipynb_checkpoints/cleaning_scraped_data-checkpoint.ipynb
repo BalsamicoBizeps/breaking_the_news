{
 "cells": [
  {
   "cell_type": "code",
   "execution_count": 8,
   "id": "9f3896e1-400a-46eb-b921-908074f48c07",
   "metadata": {},
   "outputs": [],
   "source": [
    "import pandas as pd\n",
    "import numpy as np"
   ]
  },
  {
   "cell_type": "code",
   "execution_count": null,
   "id": "5f4ca905-e0cc-4a06-addd-e7b103ffd540",
   "metadata": {},
   "outputs": [],
   "source": [
    "# nan in cells with only whitespace\n",
    "df['Content'] = df['Content'].apply(lambda x: np.nan if isinstance(x, str) and x.strip() == '' else x)"
   ]
  },
  {
   "cell_type": "code",
   "execution_count": null,
   "id": "b649bb3e-08fd-4a6b-bb2c-56a0641e6f8f",
   "metadata": {},
   "outputs": [],
   "source": [
    "# checking if text is german\n",
    "# common German words\n",
    "common_german_words = [\"und\", \"der\", \"die\", \"das\", \"ist\", \"zu\", \"mit\", \"von\", \"auf\", \"für\", \"den\", \"im\", \"ein\", \"nicht\"]\n",
    "\n",
    "# threshold for minimum word matches\n",
    "threshold = 3\n",
    "\n",
    "# check if a text is likely in German\n",
    "def is_german(text):\n",
    "    # Count occurrences of common German words\n",
    "    word_count = sum(word in text.lower() for word in common_german_words)\n",
    "    # return NaN if it doesn't meet the threshold, otherwise return the text\n",
    "    return text if word_count >= threshold else np.nan\n",
    "\n",
    "# apply function to the 'Content' column\n",
    "df['content'] = df['content'].apply(lambda x: is_german(x) if isinstance(x, str) else np.nan)\n"
   ]
  },
  {
   "cell_type": "code",
   "execution_count": null,
   "id": "56d8fdc3-1913-4fb9-b392-bf5e8c050309",
   "metadata": {},
   "outputs": [],
   "source": [
    "# removing non-article snippets\n",
    "\n",
    "# entire string:\n",
    "'Hauptnavigation: Nutzen Sie die Tabulatortaste, um durch die Menüpunkte zu navigieren. Öffnen Sie Untermenüs mit der Leertaste. Schließen Sie Untermenüs mit der Escape-Taste. Hauptnavigation: Nutzen Sie die Tabulatortaste, um durch die Menüpunkte zu navigieren. Öffnen Sie Untermenüs mit der Leertaste.  ',\n",
    "' Lesen Sie mehr zum Thema In anspruchsvollen Berufsfeldern im Stellenmarkt der SZ. Sie möchten die digitalen Produkte der SZ mit uns weiterentwickeln? Bewerben Sie sich jetzt!Jobs bei der SZ Digitale Medien Gutscheine:',\n",
    "'  öffnet in neuem Tab oder Fenster',\n",
    "'Danke, dass Sie ZEIT ONLINE nutzen.'\n",
    "'Melden Sie sich jetzt mit Ihrem bestehenden Account an oder testen Sie unser digitales Abo mit Zugang zu allen Artikeln. Erscheinungsbild Die Zusammenfassung für diesen Artikel kann leider momentan nicht angezeigt werden.',\n",
    "' ZEIT ONLINE hat diese Meldung redaktionell nicht bearbeitet. Sie wurde automatisch von der Deutschen Presse-Agentur (dpa) übernommen. '\n",
    "\n",
    "# anything following these strings:\n",
    "'Die WELT als ePaper: Die vollständige Ausgabe steht Ihnen bereits am Vorabend zur Verfügung – so sind Sie immer hochaktuell informiert. Weitere Informationen http://epaper.welt.de Der Kurz-Link dieses Artikels lautet: ',\n",
    "'Hier können Sie interessante Artikel speichern',\n",
    "'Aktuelle Nachrichten und Hintergründe aus Politik, Wirtschaft und Sport aus Berlin, Deutschland und der Welt.'"
   ]
  },
  {
   "cell_type": "code",
   "execution_count": 1,
   "id": "3dd28b96-15d8-4a44-bc83-f30c05556f86",
   "metadata": {},
   "outputs": [],
   "source": [
    "# replace text by nan that contain freaky signs like this one:\n",
    "'Das fÃ¼r Asylverfahren zustÃ¤ndige Bundesamt fÃ¼r Migration und FlÃ¼chtlinge (Bamf) soll deutlich mehr Stellen erhalten. \"Das Bundesamt fÃ¼r Migration und FlÃ¼chtlinge stÃ¤rken wir mit 1160 zusÃ¤tzlichen KrÃ¤ften, sagte Bundesinnenministerin Nancy Faeser (SPD) der \"Welt am Sonntag\". Ein Sprecher des Ministeriums bestÃ¤tigte auf Nachfrage der Deutschen Presse-Agentur, dass es sich dabei um Vollzeitstellen handelt und diese \"schnellstmÃ¶glich\" besetzt werden sollten. Derzeit verfÃ¼gt das Bamf nach eigenen Angaben Ã¼ber rund 8000 Stellen. Die Bundesregierung tue auch viel dafÃ¼r, Asylverfahren zu beschleunigen und zu digitalisieren, sagte Faeser. \"DafÃ¼r nehmen wir jetzt noch einmal 300 Millionen Euro zusÃ¤tzlich in die Hand.\" Zur laufenden PrÃ¼fung der Bundesregierung zur Machbarkeit von Asylverfahren in Drittstaaten sagte Faeser, diese dauere an. \"Wir prÃ¼fen das und hÃ¶ren dazu gerade Wissenschaftlerinnen und Wissenschaftler an. Es gibt Experten, die eine solche Regelung fÃ¼r mÃ¶glich halten, andere sagen, dass die Rechtslage geÃ¤ndert werden mÃ¼sste.\" MaÃstab seien die Menschenrechte, wie sie im europÃ¤ischen Recht und in der deutschen Verfassung geschÃ¼tzt seien. Auf die Frage, wo sie sich solche Verfahren vorstellen kÃ¶nne, sagte Faeser: \"Zum Beispiel in Staaten, die auf der Route nach Westeuropa liegen und rechtsstaatliche Standards einhalten.\" Entscheidend sei, dass die Betroffenen wÃ¤hrend der Verfahren sicher seien und von dort in ihre HeimatlÃ¤nder zurÃ¼ckgebracht werden kÃ¶nnten, wenn sie keinen Schutz benÃ¶tigten. Bundeskanzler Olaf Scholz (SPD) und die Regierungschefs der LÃ¤nder hatten sich im November darauf verstÃ¤ndigt, dass die Bundesregierung prÃ¼ft, ob Asylverfahren auÃerhalb Europas mÃ¶glich sind. Ein Ergebnis der PrÃ¼fung liegt bislang zwar nicht vor, kÃ¶nnte aber beim nÃ¤chsten Treffen der Runde in der kommenden Woche besprochen werden. Vergleich Â© G+J Medien GmbH Zugang zu stern+statt 11,96 â¬ nur 1 â¬ ',\n"
   ]
  },
  {
   "cell_type": "code",
   "execution_count": 3,
   "id": "d3006b43-1339-4765-989a-78260027e18b",
   "metadata": {},
   "outputs": [],
   "source": [
    "# remove rows where the 'url' or projectIdentifier column contains:\n",
    "['www.urlaubspiraten.de','www.kino-zeit', 'www.macwelt', 'www.autobild', 'www.wrdw', '.orf.at', 'diepresse.com', 'www.dw.com/es', 'www.dw.com/uk', 'www.wrdw.com/2024', 'www.dw.com/ru', 'www.dw.com/en', 'www.dw.com/pt-br', 'www.dw.com/en', 'www.dw.com/tr', 'www.dw.com/sw', 'www.dw.com/ru', 'www.dw.com/en', 'www.dw.com/fr', 'www.dw.com/uk', 'www.dw.com/en', 'www.dw.com/en', 'www.dw.com/es', 'www.dw.com/en', 'www.dw.com/en', 'www.dw.com/sw', 'www.dw.com/sw', 'www.dw.com/bg', 'www.dw.com/es', 'www.dw.com/uk', 'www.dw.com/tr', 'www.dw.com/en', 'www.dw.com/sw', 'www.dw.com/sw', 'www.dw.com/es', 'www.dw.com/en', 'www.dw.com/ru', 'www.wrdw.com/2024', 'www.dw.com/sr', 'www.dw.com/bn', 'www.dw.com/mk', 'www.dw.com/pl', 'www.dw.com/ru', 'www.dw.com/fr', 'www.wrdw.com/2024', 'www.dw.com/uk', 'www.dw.com/ru', 'www.dw.com/sw', 'www.dw.com/ar', 'www.dw.com/ru', 'www.dw.com/sw', 'www.dw.com/sw', 'www.dw.com/sw', 'www.dw.com/pt-br', 'www.dw.com/ro', 'www.dw.com/fr', 'www.dw.com/sw', 'www.dw.com/uk', 'www.dw.com/hr', 'www.dw.com/sw', 'www.dw.com/en', 'www.dw.com/uk', 'www.dw.com/id', 'www.dw.com/sw', 'www.dw.com/es']"
   ]
  }
 ],
 "metadata": {
  "kernelspec": {
   "display_name": "Python (news_project)",
   "language": "python",
   "name": "news_project"
  },
  "language_info": {
   "codemirror_mode": {
    "name": "ipython",
    "version": 3
   },
   "file_extension": ".py",
   "mimetype": "text/x-python",
   "name": "python",
   "nbconvert_exporter": "python",
   "pygments_lexer": "ipython3",
   "version": "3.9.19"
  }
 },
 "nbformat": 4,
 "nbformat_minor": 5
}
