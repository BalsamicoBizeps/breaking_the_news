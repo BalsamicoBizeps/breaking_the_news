{
 "cells": [
  {
   "cell_type": "code",
   "execution_count": 1,
   "id": "9f3896e1-400a-46eb-b921-908074f48c07",
   "metadata": {},
   "outputs": [
    {
     "name": "stdout",
     "output_type": "stream",
     "text": [
      "Intel MKL WARNING: Support of Intel(R) Streaming SIMD Extensions 4.2 (Intel(R) SSE4.2) enabled only processors has been deprecated. Intel oneAPI Math Kernel Library 2025.0 will require Intel(R) Advanced Vector Extensions (Intel(R) AVX) instructions.\n",
      "Intel MKL WARNING: Support of Intel(R) Streaming SIMD Extensions 4.2 (Intel(R) SSE4.2) enabled only processors has been deprecated. Intel oneAPI Math Kernel Library 2025.0 will require Intel(R) Advanced Vector Extensions (Intel(R) AVX) instructions.\n"
     ]
    }
   ],
   "source": [
    "import pandas as pd\n",
    "import numpy as np\n",
    "import re\n",
    "import glob\n",
    "from google.cloud import bigquery_storage\n",
    "import os\n",
    "from google.cloud import bigquery"
   ]
  },
  {
   "cell_type": "code",
   "execution_count": 2,
   "id": "380600fe-fd0a-455d-9055-7a66721e841e",
   "metadata": {},
   "outputs": [],
   "source": [
    "# Load the first file with selected columns\n",
    "recent = pd.read_csv('/Users/reppmazc/Documents/IRONHACK/quests/final_project/news_data.csv',\n",
    "                     usecols=['url', 'publishedAt', 'content'])\n",
    "\n",
    "# Load the second file with selected columns\n",
    "recent_2 = pd.read_csv('/Users/reppmazc/Documents/IRONHACK/quests/final_project/news_data_2.csv',\n",
    "                       usecols=['url', 'publishedAt', 'content'])\n",
    "\n",
    "# Concatenate the two DataFrames\n",
    "recent = pd.concat([recent, recent_2], ignore_index=True)\n",
    "\n",
    "# Rename the 'publishedAt' column to 'datetime'\n",
    "recent = recent.rename(columns={'publishedAt': 'datetime'})\n",
    "\n",
    "# Define a function to format the datetime string to YYYYMMDDHHMMSS\n",
    "def format_datetime_string(dt_string):\n",
    "    # Remove timezone offset if it exists (e.g., \"+00:00\")\n",
    "    dt_string = dt_string.split('+')[0]\n",
    "    # Remove 'T' if present and join parts to get the desired format\n",
    "    dt_string = dt_string.replace('T', '').replace('-', '').replace(':', '').replace(' ', '')\n",
    "    return dt_string\n",
    "\n",
    "# Apply the function to the 'datetime' column\n",
    "recent['datetime'] = recent['datetime'].astype(str).apply(format_datetime_string)"
   ]
  },
  {
   "cell_type": "code",
   "execution_count": 3,
   "id": "0669f787-bf7a-46bf-9c27-c2b9ad663d45",
   "metadata": {},
   "outputs": [],
   "source": [
    "# concatenating files -> all follow the same structure but have different rows\n",
    "# Define the path to your files\n",
    "file_path = '/Users/reppmazc/Documents/IRONHACK/quests/final_project/scraped_content_*.csv'\n",
    "\n",
    "# Use glob to get all file paths matching the pattern\n",
    "all_files = glob.glob(file_path)\n",
    "\n",
    "# Read each file and concatenate them into a single DataFrame\n",
    "df = pd.concat((pd.read_csv(f) for f in all_files), ignore_index=True)"
   ]
  },
  {
   "cell_type": "code",
   "execution_count": 4,
   "id": "cfc368f2-a72e-40b9-b455-e607d1a3c1c8",
   "metadata": {},
   "outputs": [
    {
     "data": {
      "text/plain": [
       "(67000, 2)"
      ]
     },
     "execution_count": 4,
     "metadata": {},
     "output_type": "execute_result"
    }
   ],
   "source": [
    "df.shape"
   ]
  },
  {
   "cell_type": "code",
   "execution_count": 5,
   "id": "32c31883-1a8a-4a94-93c0-d03970ccbf71",
   "metadata": {},
   "outputs": [],
   "source": [
    "df.to_csv('/Users/reppmazc/Documents/IRONHACK/quests/final_project/all_articles_notcleaned.csv')"
   ]
  },
  {
   "cell_type": "code",
   "execution_count": 6,
   "id": "e85113c1-6b68-49fe-ab6a-3b80883c0f64",
   "metadata": {},
   "outputs": [],
   "source": [
    "# Rename specific columns\n",
    "df = df.rename(columns={'Content': 'content',\n",
    "                        'DocumentIdentifier': 'url'})"
   ]
  },
  {
   "cell_type": "code",
   "execution_count": 7,
   "id": "70bcd5db-9b5f-43f2-8617-cc1c324b7471",
   "metadata": {},
   "outputs": [
    {
     "data": {
      "text/plain": [
       "(67000, 2)"
      ]
     },
     "execution_count": 7,
     "metadata": {},
     "output_type": "execute_result"
    }
   ],
   "source": [
    "df.shape"
   ]
  },
  {
   "cell_type": "code",
   "execution_count": 8,
   "id": "bd2d8730-6327-45e7-bd29-4749f3983f76",
   "metadata": {},
   "outputs": [],
   "source": [
    "df = pd.concat([df, recent], ignore_index=True)"
   ]
  },
  {
   "cell_type": "code",
   "execution_count": 9,
   "id": "fcb33bda-d63c-44b8-babe-77a53786f6d6",
   "metadata": {},
   "outputs": [],
   "source": [
    "# remove duplicate rows going by the hyperlink in the 'DocumentIdentifier' column\n",
    "df = df.drop_duplicates(subset='url', keep='first')"
   ]
  },
  {
   "cell_type": "code",
   "execution_count": 10,
   "id": "c82cf5cb-67aa-435f-b330-07c2ba01a080",
   "metadata": {},
   "outputs": [
    {
     "data": {
      "text/plain": [
       "(58686, 3)"
      ]
     },
     "execution_count": 10,
     "metadata": {},
     "output_type": "execute_result"
    }
   ],
   "source": [
    "df.shape"
   ]
  },
  {
   "cell_type": "code",
   "execution_count": 11,
   "id": "d3006b43-1339-4765-989a-78260027e18b",
   "metadata": {},
   "outputs": [],
   "source": [
    "# remove rows where the 'DocumentIdentifier' column contains dumb or non-german (speaking) outlets\n",
    "# Define the pattern to exclude all DW URLs except \"www.dw.com/de\"\n",
    "exclude_pattern = r'www\\.dw\\.com/(?!de\\b)|www\\.urlaubspiraten\\.de|www\\.kino-zeit|www\\.macwelt|www\\.autobild|www\\.wrdw|\\.orf\\.at|diepresse\\.com'\n",
    "\n",
    "# Filter out rows where 'url' matches any of the unwanted patterns\n",
    "df = df[~df['url'].str.contains(exclude_pattern, na=False)]"
   ]
  },
  {
   "cell_type": "code",
   "execution_count": 12,
   "id": "c522be00-4a5c-4cbf-ba90-0781c6eb4187",
   "metadata": {},
   "outputs": [
    {
     "data": {
      "text/plain": [
       "(47243, 3)"
      ]
     },
     "execution_count": 12,
     "metadata": {},
     "output_type": "execute_result"
    }
   ],
   "source": [
    "df.shape"
   ]
  },
  {
   "cell_type": "code",
   "execution_count": 13,
   "id": "3dd28b96-15d8-4a44-bc83-f30c05556f86",
   "metadata": {},
   "outputs": [],
   "source": [
    "# replace text in 'content' column by nan that contains freaky signs like these:\n",
    "freaky_pattern = r'Ã¼Ã¤Ã¶ÃŸâ¬Ã'\n",
    "\n",
    "# Replace rows in 'content' column with NaN where 'freaky' characters are found\n",
    "df['content'] = df['content'].apply(lambda x: np.nan if pd.notna(x) and bool(re.search(freaky_pattern, x)) else x)"
   ]
  },
  {
   "cell_type": "code",
   "execution_count": 14,
   "id": "09b48deb-a3fe-472d-99ce-865cb88a3ab5",
   "metadata": {},
   "outputs": [
    {
     "data": {
      "text/plain": [
       "(47243, 3)"
      ]
     },
     "execution_count": 14,
     "metadata": {},
     "output_type": "execute_result"
    }
   ],
   "source": [
    "df.shape"
   ]
  },
  {
   "cell_type": "code",
   "execution_count": 15,
   "id": "b649bb3e-08fd-4a6b-bb2c-56a0641e6f8f",
   "metadata": {},
   "outputs": [],
   "source": [
    "# checking if text is german\n",
    "# common German words\n",
    "common_german_words = [\n",
    "    \"und\", \"der\", \"das\", \"ist\", \"zu\", \"mit\", \"von\", \"auf\", \"für\", \"den\", \"im\", \"ein\", \"nicht\",\n",
    "    \"eine\", \"als\", \"auch\", \"aber\", \"wie\", \"es\", \"am\", \"aus\", \"bei\", \"dass\", \"oder\", \"so\", \"wenn\",\n",
    "    \"werden\", \"wir\", \"hat\", \"sich\", \"dem\", \"des\", \"noch\", \"nur\", \"kann\", \"um\", \"ja\", \"mehr\"]\n",
    "\n",
    "# Higher threshold for minimum word matches\n",
    "threshold = 5\n",
    "\n",
    "# Check if a text is likely in German\n",
    "def is_german(text):\n",
    "    # Count occurrences of common German words\n",
    "    word_count = sum(word in text.lower() for word in common_german_words)\n",
    "    # Return NaN if it doesn't meet the threshold, otherwise return the text\n",
    "    return text if word_count >= threshold else np.nan\n",
    "\n",
    "# Apply function to the 'content' column\n",
    "df['content'] = df['content'].apply(lambda x: is_german(x) if isinstance(x, str) else np.nan)"
   ]
  },
  {
   "cell_type": "code",
   "execution_count": 16,
   "id": "c99600a4-65fd-4fec-b37f-1b3896b195cf",
   "metadata": {},
   "outputs": [
    {
     "data": {
      "text/plain": [
       "(47243, 3)"
      ]
     },
     "execution_count": 16,
     "metadata": {},
     "output_type": "execute_result"
    }
   ],
   "source": [
    "df.shape"
   ]
  },
  {
   "cell_type": "code",
   "execution_count": 17,
   "id": "56d8fdc3-1913-4fb9-b392-bf5e8c050309",
   "metadata": {},
   "outputs": [],
   "source": [
    "# removing strings that are part of the article content of some cells\n",
    "# Define the non-article snippets and phrases to trim\n",
    "non_article_snippets = [\n",
    "    'Hauptnavigation: Nutzen Sie die Tabulatortaste, um durch die Menüpunkte zu navigieren. Öffnen Sie Untermenüs mit der Leertaste. Schließen Sie Untermenüs mit der Escape-Taste. Hauptnavigation: Nutzen Sie die Tabulatortaste, um durch die Menüpunkte zu navigieren. Öffnen Sie Untermenüs mit der Leertaste.',\n",
    "    'Lesen Sie mehr zum Thema In anspruchsvollen Berufsfeldern im Stellenmarkt der SZ. Sie möchten die digitalen Produkte der SZ mit uns weiterentwickeln? Bewerben Sie sich jetzt!Jobs bei der SZ Digitale Medien Gutscheine:',\n",
    "    'öffnet in neuem Tab oder Fenster',\n",
    "    'Danke, dass Sie ZEIT ONLINE nutzen.',\n",
    "    'Melden Sie sich jetzt mit Ihrem bestehenden Account an oder testen Sie unser digitales Abo mit Zugang zu allen Artikeln. Erscheinungsbild Die Zusammenfassung für diesen Artikel kann leider momentan nicht angezeigt werden.',\n",
    "    'ZEIT ONLINE hat diese Meldung redaktionell nicht bearbeitet. Sie wurde automatisch von der Deutschen Presse-Agentur (dpa) übernommen.',\n",
    "    'Kommentar | ',\n",
    "    'Berlin (dpa/bb). ',\n",
    "    'Deutschen Presse-Agentur',\n",
    "    'dpa',\n",
    "    '+++ ',\n",
    "    'SZ-Redaktion',\n",
    "    'WELT TV'\n",
    "    '++',\n",
    "    '© dpa-infocom, ',\n",
    "    'Drucken Teilen',\n",
    "    'Nicht verpassen: Alles rund ums Thema Job & Beruf finden Sie im Karriere-Newsletter unseres Partners Merkur.de.',\n",
    "    'Erstellt durch: ',\n",
    "    '0 Weniger als eine Minute',\n",
    "    '► ',\n",
    "    '▶︎'\n",
    "    '© ',\n",
    "    '© dpa/',\n",
    "    '© REUTERS/',\n",
    "    '© Getty Images',\n",
    "    '© IMAGO/',\n",
    "    '© imago images/',\n",
    "    '© imago/',\n",
    "    'Lesen Sie auch',\n",
    "    '© Berliner Feuerwehr ',\n",
    "    '© privat ',\n",
    "    'Kopiere den aktuellen Link ',\n",
    "    'DIE ZEIT: ',\n",
    "    'Melden Sie sich jetzt mit Ihrem bestehenden Account an oder testen Sie unser digitales Abo mit Zugang zu allen Artikeln. Abo testen',\n",
    "    '\"Licht Aus\" So ging es Jochen Schropp nach der Sendung Im Interview verrät Jochen Schropp, was \"Licht Aus\" in ihm verändert hat und was für ihn zu den schönsten Erlebnissen aus der Show zählt.',\n",
    "    '\"Mehr als zwei Etagen schaffe ich kaum zu Fuß\" Baerbock schildert im stern Folgen ihrer Covid-Erkrankung – viele Genesungswünsche für Außenministerin',\n",
    "    '(SZ) ',\n",
    "    '06. November 2024: Til Schweiger postet Schwarz-Weiß-Foto von sich – Fans denken er sei tot Mit seinem neuen Posting auf Instagram wollte Til Schweiger eigentlich nur ein Update geben. Doch das Foto, welches er für seinen Instagram-Beitrag gewählt hat, sorgt unter seinen Fans für Verwunderung. Denn das Schwarz-Weiß-Bild erinnert an eine Todesanzeige. \"Was ist passiert? Es soll dumm aussehen, aber solche Fotos postet man gewöhnlich nur als ein Todeszeichen im sozialen Netzwerk\", schreibt ein Fan. \"Ist er gestorben?\", fragt ein anderer. Andere freuen sich, überhaupt mal wieder etwas von Schweiger zu erfahren. Screenshot Instagram Til Schweiger Mehr',\n",
    "    '167 Millionen Aufrufe: Trailer des neuen \"Joker\"-Films weckt Rieseninteresse Schon ein halbes Jahr vor seinem Kinostart weckt die Fortsetzung des Thrillers \"Joker\" riesiges Interesse. Der Trailer von \"Joker: Folie A Deux\" mit Popstar Lady Gaga in einer Hauptrolle wurde innerhalb der ersten 24 Stunden nach seiner Veröffentlichung sensationelle 167 Millionen Mal angesehen, wie das Branchenmagazin \"Variety\" am Donnerstag (Ortszeit) berichtete. Auf der Videoplattform Youtube landete der Trailer demnach sofort an der Spitze der Trendvideos.',\n",
    "    '1999 in Hamburg verschwunden Polizei sucht mysteriösen Anrufer – neue Spur im Vermisstenfall Hilal Ercan Sie ist das einzige langzeitvermisste Kind in Hamburg: 1999 verschwand die damals zehnjährige Hilal Ercan spurlos. Jetzt verfolgt die Polizei eine neue Spur.',\n",
    "    'AFP/',\n",
    "    'An dieser Stelle ist ein externer Inhalt eingebunden Zum Anschauen benötigen wir Ihre Zustimmung Bitte aktivieren Sie JavaScript damit Sie diesen Inhalt anzeigen können. Weiter ',\n",
    "    'Andreas Klaer ',\n",
    "    'Auf Diddys Jacht Neue Missbrauchsvorwürfe gegen Sänger Chris Brown In einer Doku sollen Frauen zu Wort kommen, die Chris Brown schwere Vorwürfe machen. Er wird unter anderem der Vergewaltigung beschuldigt – nicht zum ersten Mal.',\n",
    "    '(dpa/tmn). ',\n",
    "    'Bornschein Podcast : Bornschein trifft Henrik Falk Der Strategie- und Digitalexperte Christoph Bornschein sucht mit eingeladenen Fachleuten nach Ideen der Zukunft. Es geht oft ums Digitale, aber weit darüber hinaus. Diese Woche ist der Vorstandsvorsitzende der Berliner Verkehrsbetriebe zu Gast. Es geht um die digitale Verkehrswende. Und darum, was das überhaupt ist.',\n",
    "    'Das stern-Team vor Ort informiert Sie immer samstags im kostenlosen Newsletter \"Inside America\" über die wichtigsten Entwicklungen und gibt Einblicke, wie Amerikanerinnen und Amerikaner wirklich auf ihr Land schauen. Hier geht es zur Registrierung. Nach Eingabe Ihrer E-Mail-Adresse erhalten Sie eine E-Mail zur Bestätigung Ihrer Anmeldung.',\n",
    "    'Der F.A.Z. Podcast für Deutschland ist der tägliche Podcast der F.A.Z. zu den relevantesten Themen des Tages. Der Podcast erscheint immer um 17 Uhr, von Montag bis Freitag. Alle Folgen finden Sie hier . Sie können den Podcast ganz einfach bei Apple Podcasts, Spotify oder Deezer abonnieren und verpassen so keine neue Folge. Natürlich sind wir auch in anderen Podcast-Apps verfügbar, suchen Sie dort einfach nach „F.A.Z. Podcast für Deutschland“. Ebenfalls finden Sie uns in der FAZ.NET-App.',\n",
    "    'Dieser Artikel ist Teil von ZEIT am Wochenende, ',\n",
    "    'Direkt aus dem dpa-Newskanal: Dieser Text wurde automatisch von der Deutschen Presse-Agentur (dpa) übernommen und von der SZ-Redaktion nicht bearbeitet. ',\n",
    "    'dpa/- ',\n",
    "    'dpa/ ',\n",
    "    'dpa/',\n",
    "    '+ ',\n",
    "    'F.A.Z. exklusiv : ',\n",
    "    'Gestaltung: Tagesspiegel; Fotos: ',\n",
    "    'imago images / ',\n",
    "    'imago images/',\n",
    "    'IMAGO/',\n",
    "    'Imago/',\n",
    "    'imago/',\n",
    "    'Inhalt Auf einer Seite lesen Inhalt Seite 1 ',\n",
    "    'Interview | ',\n",
    "    'Jetzt im Livestream – ',\n",
    "    'Kennen Sie schon unsere PLUS-Inhalte ? Jetzt Morgenpost testen Sie haben vermutlich einen Ad-Blocker aktiviert. Aus diesem Grund können die Funktionen des Podcast-Players eingeschränkt sein. Bitte deaktivieren Sie den Ad-Blocker, um den Podcast hören zu können.',\n",
    "    'Jetzt weiterlesen Dies ist kein Abo. Ihre Registrierung ist komplett kostenlos, ohne versteckte Kosten. Gleich geschafft! Bitte bestätigen Sie Ihren Account über den Bestätigungslink in der gesendeten E-Mail',\n",
    "    'Kopiere den aktuellen',\n",
    "    'liveblog ',\n",
    "    'Netflix entfernt interaktive Titel Was User jetzt noch sehen müssen Netflix nimmt die meisten interaktiven Filme und Serien aus dem Katalog. Was Abonnenten jetzt noch sehen müssen.',\n",
    "    'News von ZDFheute on Instagram: ',\n",
    "    'Ottmar Winter PNN/Ottmar Winter PNN ',\n",
    "    'picture alliance / ',\n",
    "    'picture alliance/dpa ',\n",
    "    '(dpa/bb).',\n",
    "    'rbb|24-Adventskalender | ',\n",
    "    'REUTERS/',\n",
    "    'Reuters/',\n",
    "    'Teilen Verschenken Merken Drucken ',\n",
    "    'Von: '\n",
    "    'Schließen Artikelzusammenfassung Dies ist ein experimentelles Tool. Die Resultate können unvollständig, veraltet oder sogar falsch sein. ',\n",
    "    'Sehen Sie im Video: ',\n",
    "    'Sie können den Podcast ganz einfach bei Apple Podcasts, Spotify oder Deezer abonnieren und verpassen so keine neue Folge. Natürlich sind wir auch in anderen Podcast-Apps verfügbar, suchen Sie dort einfach nach „F.A.Z. Podcast Finanzen & Immobilien“. Ebenfalls finden Sie uns in der FAZ.NET-App. Alle unsere Podcast-Angebote finden Sie hier. Haben Sie Fragen oder Anmerkungen zum Podcast? Dann melden Sie sich gerne bei podcast@faz.de.',\n",
    "    'Sie sind nun eingeloggt. Sollten Sie dennoch nicht auf gesperrte Artikel zugreifen können, löschen Sie bitte die im Browser gespeicherten Cookies und loggen Sie sich dann erneut ein. Zum Artikel: ']\n",
    "\n",
    "phrases_to_trim_after = [\n",
    "    'Die WELT als ePaper: Die vollständige Ausgabe steht Ihnen bereits am Vorabend zur Verfügung – so sind Sie immer hochaktuell informiert. Weitere Informationen http://epaper.welt.de Der Kurz-Link dieses Artikels lautet:',\n",
    "    'Hier können Sie interessante Artikel speichern',\n",
    "    'Wiesbaden/Schwalmstadt. Nach den tödlichen Polizeischüssen in Schwalmstadt hat Innenminister Roman Poseck (CDU) den',\n",
    "    'Sie wollen wissen, wie die Sterne in Liebesdingen, im Beruf und in Sachen Gesundheit für Sie stehen? ',\n",
    "    'Prime Deal Days 2024: Das waren die besten Angebote Kopiere den aktuellen Link Amazon',\n",
    "    'LED-Taschenlampe für 18 statt 37 Euro: Die Top-Deals am Donnerstag Amazon',\n",
    "    'Kaufberatung Audi A5 - diese Schöheit ist kein Biest Wieso Audi so lange keinen echten Konkurrente',\n",
    "    'Einhell Rasentrimmer heute 41 % günstiger: ',\n",
    "    ' <blockquote class=\"instagram-media\" data-instgrm-captioned data-',\n",
    "    'Haben Sie den Eurojackpot geknackt?',\n",
    "    'Tag für Tag gibt es Ereignisse, Anekdoten, Geburts- oder Sterbetage, an die erinnert werden soll. ',\n",
    "    'Steinmeier: „Es ist nicht die Zeit für Taktik und Scharmützel, es ist die Zeit für Verantwortung.“ Steinmeier: „',\n",
    "    'In ukrainisch besetzten Gebieten der russischen Region Kursk sollen erstmals nordkoreanische Soldaten an Kämpfen beteiligt gewesen sein. Das berichtet die „New York Times“ unter Berufung auf Regierungsvertreter der Ukraine und der USA. Laut der amerikanischen Quelle seien dabei viele Nordkoreaner getötet worden. ',\n",
    "    'Beim Lotto 6aus49 steht die Gewinnchance bei 1:140 Millionen Jeder träumt von einem 6er im Lotto ... ',\n",
    "    'Berlin. Das Cashplus von Unitplus bietet aktuell 3,23 Prozent Zinsen und damit mehr als manches Tagesgeld. ',\n",
    "    'Berlin. Für einen Auto-, Wohn- oder Ratenkredit der ING gelten neue Konditionen. ',\n",
    "    'Berlin. Zinsstarke Angebote für ein Festgeld oder Tagesgeld werden rar. ',\n",
    "    'Die Gewinnchancen beim Lotto 6aus49 stehen bei ',\n",
    "    'Die scheidende amerikanische Regierung unter Präsident Joe Biden will offenbar einen Stopp bereits bewilligter Hilfen für die Ukraine durch den neuen Präsidenten Donald Trump verhindern. Die verbleibenden Lieferungen im Wert von sechs Milliarden Dollar sollten so schnell wie möglich der Ukraine übergeben werden, sagten zwei ranghohe Regierungsmitarbeiter am Mittwoch nach einem Bericht des Nachrichtenmagazins \"Politico\". Trump tritt sein Amt erst am 20. Januar an. Trump hat im Wahlkampf '\n",
    "    'Aktuelle Nachrichten und Hintergründe aus Politik, Wirtschaft und Sport aus Berlin, Deutschland und der Welt.']\n",
    "\n",
    "# Step 1: Remove specified snippets from within the content\n",
    "def remove_snippets(text):\n",
    "    if pd.notna(text):  # Ensure text is not NaN\n",
    "        for snippet in non_article_snippets:\n",
    "            text = text.replace(snippet, '')  # Remove each snippet if it appears\n",
    "    return text\n",
    "\n",
    "df['content'] = df['content'].apply(remove_snippets)\n",
    "\n",
    "# Step 2: Trim content after any of the specified phrases\n",
    "def trim_content(text):\n",
    "    if pd.notna(text):  # Ensure text is not NaN\n",
    "        for phrase in phrases_to_trim_after:\n",
    "            if phrase in text:\n",
    "                return text.split(phrase)[0]  # Keep only the part before the phrase\n",
    "    return text\n",
    "\n",
    "df['content'] = df['content'].apply(trim_content)"
   ]
  },
  {
   "cell_type": "code",
   "execution_count": 18,
   "id": "9e8fa626-60b4-40fd-939a-c943b9cf6e33",
   "metadata": {},
   "outputs": [
    {
     "data": {
      "text/plain": [
       "(47243, 3)"
      ]
     },
     "execution_count": 18,
     "metadata": {},
     "output_type": "execute_result"
    }
   ],
   "source": [
    "df.shape"
   ]
  },
  {
   "cell_type": "code",
   "execution_count": 19,
   "id": "fd589865-95be-4ae7-ae7a-bf9093c14306",
   "metadata": {},
   "outputs": [],
   "source": [
    "def clean_text(text):\n",
    "    if isinstance(text, str):  # Ensure text is a string\n",
    "        text = re.sub(r\"http\\S+\", \"\", text)  # Remove URLs in general\n",
    "        text = re.sub(r\"©\\s?\\d+\", \"\", text)  # Remove copyright symbols\n",
    "        text = re.sub(r'\\n+', ' ', text)  # Replace newlines with spaces\n",
    "        text = re.sub(r'\\s+', ' ', text)  # Remove extra spaces\n",
    "        return text\n",
    "    return text  # Return NaN or non-string content as-is\n",
    "\n",
    "# Apply the cleaning function to each article\n",
    "df['content'] = df['content'].apply(clean_text)"
   ]
  },
  {
   "cell_type": "code",
   "execution_count": 20,
   "id": "ab7d8243-b5c0-4c3f-aa0e-9a2ab63c8fd2",
   "metadata": {},
   "outputs": [
    {
     "data": {
      "text/plain": [
       "(47243, 3)"
      ]
     },
     "execution_count": 20,
     "metadata": {},
     "output_type": "execute_result"
    }
   ],
   "source": [
    "df.shape"
   ]
  },
  {
   "cell_type": "code",
   "execution_count": 21,
   "id": "5f4ca905-e0cc-4a06-addd-e7b103ffd540",
   "metadata": {},
   "outputs": [],
   "source": [
    "# nan in cells with only whitespace\n",
    "df['content'] = df['content'].apply(lambda x: np.nan if isinstance(x, str) and x.strip() == '' else x)"
   ]
  },
  {
   "cell_type": "code",
   "execution_count": 22,
   "id": "24505206-d987-4d27-a4c0-437494195926",
   "metadata": {},
   "outputs": [
    {
     "data": {
      "text/plain": [
       "(47243, 3)"
      ]
     },
     "execution_count": 22,
     "metadata": {},
     "output_type": "execute_result"
    }
   ],
   "source": [
    "df.shape"
   ]
  },
  {
   "cell_type": "code",
   "execution_count": 23,
   "id": "25b26b2f-a4f8-455b-9d05-2db0ff9510dd",
   "metadata": {},
   "outputs": [],
   "source": [
    "columns_to_check = [col for col in df.columns if col != 'datetime']\n",
    "df = df.dropna(subset=columns_to_check)"
   ]
  },
  {
   "cell_type": "code",
   "execution_count": 24,
   "id": "b8cd55ea-8683-4f5a-9170-79e2a1c61f82",
   "metadata": {},
   "outputs": [
    {
     "data": {
      "text/plain": [
       "(41991, 3)"
      ]
     },
     "execution_count": 24,
     "metadata": {},
     "output_type": "execute_result"
    }
   ],
   "source": [
    "df.shape"
   ]
  },
  {
   "cell_type": "code",
   "execution_count": 25,
   "id": "b8729bf8-d611-4f6c-b5c2-721076923115",
   "metadata": {},
   "outputs": [],
   "source": [
    "# create new source column from hyperlink in 'DocumentIdentifier' column as string (source is between the first . and the second . in the hyperlink)\n",
    "df['source'] = df['url'].str.extract(r'\\.(\\w+)\\.')"
   ]
  },
  {
   "cell_type": "code",
   "execution_count": 26,
   "id": "30c994b9-9e31-49ef-a5c6-8822ba96e5b4",
   "metadata": {},
   "outputs": [
    {
     "data": {
      "text/plain": [
       "(41991, 4)"
      ]
     },
     "execution_count": 26,
     "metadata": {},
     "output_type": "execute_result"
    }
   ],
   "source": [
    "df.shape"
   ]
  },
  {
   "cell_type": "code",
   "execution_count": 27,
   "id": "1555507c-1fc7-427d-963b-fb536fb40beb",
   "metadata": {},
   "outputs": [],
   "source": [
    "# removed any non-approved sources\n",
    "allowed_sources = [\"spiegel\",\n",
    "                   \"taz\",\n",
    "                   \"jungewelt\",\n",
    "                   \"freitag\",\n",
    "                   \"zeit\",\n",
    "                   \"tagesspiegel\",\n",
    "                   \"dw\",\n",
    "                   \"tagesschau\",\n",
    "                   \"stern\",\n",
    "                   \"focus\",\n",
    "                   \"welt\",\n",
    "                   \"jungefreiheit\",\n",
    "                   \"sueddeutsche\",\n",
    "                   \"faz\",\n",
    "                   \"morgenpost\",\n",
    "                   \"bild\",\n",
    "                   \"rbb24\",\n",
    "                   \"express\"]\n",
    "\n",
    "df = df[df['source'].isin(allowed_sources)]"
   ]
  },
  {
   "cell_type": "code",
   "execution_count": 28,
   "id": "b05eebac-02d8-4215-94a8-d2eab3a0422a",
   "metadata": {},
   "outputs": [
    {
     "data": {
      "text/plain": [
       "(38702, 4)"
      ]
     },
     "execution_count": 28,
     "metadata": {},
     "output_type": "execute_result"
    }
   ],
   "source": [
    "df.shape"
   ]
  },
  {
   "cell_type": "code",
   "execution_count": 29,
   "id": "763eb35a-2265-4a90-abd9-ab2bf45500f2",
   "metadata": {},
   "outputs": [],
   "source": [
    "df.to_csv('/Users/reppmazc/Documents/IRONHACK/quests/final_project/cleaned_articles_wo_date.csv')"
   ]
  },
  {
   "cell_type": "raw",
   "id": "ee023180-3146-4dcb-afb0-7edb16bf908e",
   "metadata": {},
   "source": [
    "os.environ[\"GOOGLE_APPLICATION_CREDENTIALS\"] = \"xxx\"\n",
    "client = bigquery.Client()\n",
    "\n",
    "# Function to get datetime for each URL, preserving existing values if not found\n",
    "def get_datetime(url, current_datetime):\n",
    "    query = \"\"\"\n",
    "    SELECT DATE\n",
    "    FROM `fourth-epigram-440716-f1.news_analysis.gdelt`\n",
    "    WHERE DocumentIdentifier = @url\n",
    "    LIMIT 1\n",
    "    \"\"\"\n",
    "    # Use parameterized query to prevent SQL injection\n",
    "    job_config = bigquery.QueryJobConfig(\n",
    "        query_parameters=[\n",
    "            bigquery.ScalarQueryParameter(\"url\", \"STRING\", url)])\n",
    "    # Run the query and fetch results\n",
    "    result = client.query(query, job_config=job_config).to_dataframe()\n",
    "    \n",
    "    # Return the date if found, otherwise keep the existing datetime\n",
    "    return result['DATE'].iloc[0] if not result.empty else current_datetime\n",
    "\n",
    "# Test the function on a small chunk (first 10 rows)\n",
    "test_df = df.sample(n=10, random_state=42).copy()\n",
    "\n",
    "# Update the 'datetime' column in the test DataFrame\n",
    "test_df['datetime'] = test_df.apply(lambda row: get_datetime(row['url'], row['datetime']), axis=1)\n",
    "\n",
    "# Check the updated test DataFrame\n",
    "print(test_df)\n"
   ]
  },
  {
   "cell_type": "raw",
   "id": "cda40f41-e62c-4cd3-8fb8-ba4875ed6def",
   "metadata": {},
   "source": [
    "# get datetime data from gdelt rows matched based on content of 'DocumentIdentifier' save in new datetime column \n",
    "# Set up Google Cloud credentials and BigQuery client\n",
    "df = pd.read_csv('') # @Janos add the path to the csv file i airdropped you yesterday\n",
    "\n",
    "os.environ[\"GOOGLE_APPLICATION_CREDENTIALS\"] = \"xx\"\n",
    "client = bigquery.Client()\n",
    "\n",
    "def get_datetime(url, current_datetime):\n",
    "    query = \"\"\"\n",
    "    SELECT DATE\n",
    "    FROM `fourth-epigram-440716-f1.news_analysis.gdelt`\n",
    "    WHERE DocumentIdentifier = @url\n",
    "    LIMIT 1\n",
    "    \"\"\"\n",
    "    # Use parameterized query to prevent SQL injection\n",
    "    job_config = bigquery.QueryJobConfig(\n",
    "        query_parameters=[\n",
    "            bigquery.ScalarQueryParameter(\"url\", \"STRING\", url)])\n",
    "    # Run the query and fetch results\n",
    "    result = client.query(query, job_config=job_config).to_dataframe()\n",
    "    \n",
    "    # Return the date if found, otherwise keep the existing datetime\n",
    "    return result['DATE'].iloc[0] if not result.empty else current_datetime\n",
    "\n",
    "# Update the 'datetime' column in place, preserving existing values where URLs are not found\n",
    "df['datetime'] = df.apply(lambda row: get_datetime(row['url'], row['datetime']), axis=1)"
   ]
  },
  {
   "cell_type": "raw",
   "id": "22064354-a387-44ab-af9d-002dcccfb08b",
   "metadata": {},
   "source": [
    "df.to_csv('/Users/reppmazc/Documents/IRONHACK/quests/final_project/cleaned_articles_w_date.csv')"
   ]
  },
  {
   "cell_type": "code",
   "execution_count": 30,
   "id": "de9973ba-e1d8-48de-a376-37b3ef3db940",
   "metadata": {},
   "outputs": [
    {
     "data": {
      "text/plain": [
       "source\n",
       "welt                 9555\n",
       "zeit                 6011\n",
       "stern                3226\n",
       "faz                  3017\n",
       "sueddeutsche         3016\n",
       "focus                2971\n",
       "tagesspiegel         2466\n",
       "morgenpost           2321\n",
       "bild                 2296\n",
       "tagesschau            955\n",
       "heise                 914\n",
       "jungewelt             643\n",
       "rbb24                 426\n",
       "dw                    383\n",
       "spiegel               103\n",
       "express               103\n",
       "volksfreund            99\n",
       "freitag                99\n",
       "finanznachrichten      30\n",
       "freenet                15\n",
       "merkur                  8\n",
       "hna                     5\n",
       "radiokoeln              4\n",
       "sportschau              3\n",
       "telepolis               3\n",
       "nwzonline               3\n",
       "kreiszeitung            3\n",
       "fuldaerzeitung          3\n",
       "derstandard             2\n",
       "radiorst                2\n",
       "tz                      2\n",
       "fnp                     2\n",
       "haz                     1\n",
       "handelsblatt            1\n",
       "abendblatt              1\n",
       "epochtimes              1\n",
       "mdr                     1\n",
       "nordbayern              1\n",
       "hanauer                 1\n",
       "mt                      1\n",
       "schwaebische            1\n",
       "brigitte                1\n",
       "openpr                  1\n",
       "chip                    1\n",
       "shz                     1\n",
       "Name: count, dtype: int64"
      ]
     },
     "execution_count": 30,
     "metadata": {},
     "output_type": "execute_result"
    }
   ],
   "source": [
    "df['source'].value_counts()"
   ]
  },
  {
   "cell_type": "code",
   "execution_count": 31,
   "id": "25b31508-5a0f-41ab-8c52-b441eda71af5",
   "metadata": {},
   "outputs": [
    {
     "data": {
      "text/plain": [
       "(38702, 4)"
      ]
     },
     "execution_count": 31,
     "metadata": {},
     "output_type": "execute_result"
    }
   ],
   "source": [
    "df.shape"
   ]
  }
 ],
 "metadata": {
  "kernelspec": {
   "display_name": "Python (news_project)",
   "language": "python",
   "name": "news_project"
  },
  "language_info": {
   "codemirror_mode": {
    "name": "ipython",
    "version": 3
   },
   "file_extension": ".py",
   "mimetype": "text/x-python",
   "name": "python",
   "nbconvert_exporter": "python",
   "pygments_lexer": "ipython3",
   "version": "3.9.19"
  }
 },
 "nbformat": 4,
 "nbformat_minor": 5
}
